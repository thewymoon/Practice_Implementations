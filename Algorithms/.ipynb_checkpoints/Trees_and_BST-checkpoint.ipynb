{
 "cells": [
  {
   "cell_type": "markdown",
   "metadata": {},
   "source": [
    "# Trees and Binary Search Trees"
   ]
  },
  {
   "cell_type": "code",
   "execution_count": 17,
   "metadata": {
    "collapsed": true
   },
   "outputs": [],
   "source": [
    "class Node: \n",
    "    def __init__(self , key): \n",
    "        self.data = key  \n",
    "        self.left = None\n",
    "        self.right = None\n",
    "        \n",
    "root = Node(1) \n",
    "root.left = Node(2) \n",
    "root.right = Node(3) \n",
    "root.left.left = Node(4) \n",
    "root.left.right = Node(5)\n",
    "root.right.right = Node(6)"
   ]
  },
  {
   "cell_type": "markdown",
   "metadata": {},
   "source": [
    "### Finding minimums depth of Binary Tree"
   ]
  },
  {
   "cell_type": "code",
   "execution_count": 20,
   "metadata": {
    "collapsed": true
   },
   "outputs": [],
   "source": [
    "def minDepth(root):\n",
    "    # Zero, edge case\n",
    "    if root is None:\n",
    "        return 0\n",
    "    \n",
    "    if (root.left is None) and (root.right is None):\n",
    "        return 1\n",
    "    elif root.right is None:\n",
    "        return minDepth(root.left) + 1\n",
    "    elif root.left is None:\n",
    "        return minDepth(root.right) + 1\n",
    "        \n",
    "    return min(minDepth(root.left), minDepth(root.right)) + 1\n",
    "    \n",
    "    "
   ]
  },
  {
   "cell_type": "code",
   "execution_count": 45,
   "metadata": {
    "collapsed": true
   },
   "outputs": [],
   "source": [
    "from collections import deque\n",
    "\n",
    "def minDepth(root):\n",
    "    queue = deque()\n",
    "    queue.append(root)\n",
    "    roots = []\n",
    "    keep_going=True\n",
    "    row = 0\n",
    "    while keep_going:\n",
    "        row += 1\n",
    "        while queue:\n",
    "            roots.append(queue.pop())\n",
    "        for r in roots:\n",
    "            print(\"roots\", roots)\n",
    "            print(\"row\",row)\n",
    "            print(\"data\", r.data)\n",
    "            if r.left is None and r.right is None:\n",
    "                return row\n",
    "            elif r.left is None:\n",
    "                queue.append(r.right)\n",
    "            elif r.right is None:\n",
    "                queue.append(r.left)\n",
    "            else:\n",
    "                queue.append(r.left)\n",
    "                queue.append(r.right)\n",
    "        roots = []\n",
    "    \n",
    "    return -1\n",
    "    \n",
    "        \n",
    "        "
   ]
  },
  {
   "cell_type": "code",
   "execution_count": 46,
   "metadata": {},
   "outputs": [
    {
     "name": "stdout",
     "output_type": "stream",
     "text": [
      "roots [<__main__.Node object at 0x10e165fd0>]\n",
      "row 1\n",
      "data 1\n",
      "roots [<__main__.Node object at 0x10e165198>, <__main__.Node object at 0x10e15c908>]\n",
      "row 2\n",
      "data 3\n",
      "roots [<__main__.Node object at 0x10e165198>, <__main__.Node object at 0x10e15c908>]\n",
      "row 2\n",
      "data 2\n",
      "roots [<__main__.Node object at 0x10e144c50>, <__main__.Node object at 0x10e144ba8>, <__main__.Node object at 0x10e1444e0>]\n",
      "row 3\n",
      "data 5\n"
     ]
    },
    {
     "data": {
      "text/plain": [
       "3"
      ]
     },
     "execution_count": 46,
     "metadata": {},
     "output_type": "execute_result"
    }
   ],
   "source": [
    "minDepth(root)"
   ]
  }
 ],
 "metadata": {
  "kernelspec": {
   "display_name": "Python 3",
   "language": "python",
   "name": "python3"
  },
  "language_info": {
   "codemirror_mode": {
    "name": "ipython",
    "version": 3
   },
   "file_extension": ".py",
   "mimetype": "text/x-python",
   "name": "python",
   "nbconvert_exporter": "python",
   "pygments_lexer": "ipython3",
   "version": "3.6.1"
  }
 },
 "nbformat": 4,
 "nbformat_minor": 2
}
