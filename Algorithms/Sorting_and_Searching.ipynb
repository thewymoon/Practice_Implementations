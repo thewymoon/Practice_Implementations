{
 "cells": [
  {
   "cell_type": "markdown",
   "metadata": {},
   "source": [
    "# Sorting"
   ]
  },
  {
   "cell_type": "code",
   "execution_count": 30,
   "metadata": {},
   "outputs": [],
   "source": [
    "class Sorter():\n",
    "\n",
    "    def heapsort(self, nums):\n",
    "        output = []\n",
    "        for i in range(len(nums)):\n",
    "            heapq.heapify(nums)\n",
    "            output.append(nums.pop(0))\n",
    "        return output\n",
    "    \n",
    "    def bubblesort(self, nums):\n",
    "        done=False\n",
    "        \n",
    "        while not done:\n",
    "            done = True\n",
    "            for i in range(len(nums)-1):\n",
    "                if nums[i] > nums[i+1]:\n",
    "                    nums[i], nums[i+1] = nums[i+1], nums[i]\n",
    "                    done = False\n",
    "        return nums\n",
    "    \n",
    "    def insertsort(self, nums):\n",
    "        for i in range(len(nums)):\n",
    "            val = nums[i]\n",
    "            j = i-1\n",
    "            while j>=0 and val < nums[j]:\n",
    "                nums[j+1] = nums[j]\n",
    "                j -= 1\n",
    "            nums[j+1] = val\n",
    "        return nums\n",
    "    \n",
    "    \n",
    "    \n",
    "    \n",
    "            "
   ]
  },
  {
   "cell_type": "markdown",
   "metadata": {},
   "source": [
    "# Searching"
   ]
  },
  {
   "cell_type": "markdown",
   "metadata": {},
   "source": [
    "### Binary Search (recursive)"
   ]
  },
  {
   "cell_type": "code",
   "execution_count": 92,
   "metadata": {
    "collapsed": true
   },
   "outputs": [],
   "source": [
    "def binary_search(nums, l, r, x):\n",
    "    if r >= l:\n",
    "        mid = (l+r)//2\n",
    "        \n",
    "        if nums[mid] == x:\n",
    "            return mid\n",
    "        elif nums[mid] > x:\n",
    "            return binary_search(nums, l, mid-1, x)\n",
    "        else:\n",
    "            return binary_search(nums, mid+1, r, x)\n",
    "            \n",
    "    else:\n",
    "        return -1\n",
    "        "
   ]
  },
  {
   "cell_type": "code",
   "execution_count": 93,
   "metadata": {},
   "outputs": [
    {
     "data": {
      "text/plain": [
       "3"
      ]
     },
     "execution_count": 93,
     "metadata": {},
     "output_type": "execute_result"
    }
   ],
   "source": [
    "test = [1,4,6,8,12,100]\n",
    "binary_search(test, 0, len(test)-1, 8)"
   ]
  },
  {
   "cell_type": "markdown",
   "metadata": {},
   "source": [
    "### Binary Search (imperative)"
   ]
  },
  {
   "cell_type": "code",
   "execution_count": 95,
   "metadata": {
    "collapsed": true
   },
   "outputs": [],
   "source": [
    "def binary_search(nums, x):\n",
    "    l, r = 0, len(nums)-1\n",
    "    \n",
    "    while l<=r:\n",
    "        mid = (l+r)//2\n",
    "        if nums[mid]==x:\n",
    "            return mid\n",
    "        elif nums[mid] > x:\n",
    "            r = mid-1\n",
    "        else:\n",
    "            l = mid+1\n",
    "    return -1"
   ]
  },
  {
   "cell_type": "code",
   "execution_count": 96,
   "metadata": {},
   "outputs": [
    {
     "data": {
      "text/plain": [
       "3"
      ]
     },
     "execution_count": 96,
     "metadata": {},
     "output_type": "execute_result"
    }
   ],
   "source": [
    "test = [1,4,6,8,12,100]\n",
    "binary_search(test, 8)"
   ]
  },
  {
   "cell_type": "code",
   "execution_count": null,
   "metadata": {
    "collapsed": true
   },
   "outputs": [],
   "source": []
  }
 ],
 "metadata": {
  "kernelspec": {
   "display_name": "Python 3",
   "language": "python",
   "name": "python3"
  },
  "language_info": {
   "codemirror_mode": {
    "name": "ipython",
    "version": 3
   },
   "file_extension": ".py",
   "mimetype": "text/x-python",
   "name": "python",
   "nbconvert_exporter": "python",
   "pygments_lexer": "ipython3",
   "version": "3.6.1"
  }
 },
 "nbformat": 4,
 "nbformat_minor": 2
}
