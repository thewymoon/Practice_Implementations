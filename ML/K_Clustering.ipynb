{
 "cells": [
  {
   "cell_type": "markdown",
   "metadata": {},
   "source": [
    "# K Means Clustering"
   ]
  },
  {
   "cell_type": "code",
   "execution_count": 85,
   "metadata": {},
   "outputs": [],
   "source": [
    "%matplotlib inline\n",
    "\n",
    "import matplotlib.pyplot as plt\n",
    "import numpy as np\n",
    "from timeit import default_timer as timer"
   ]
  },
  {
   "cell_type": "code",
   "execution_count": 75,
   "metadata": {
    "collapsed": true
   },
   "outputs": [],
   "source": [
    "def calculate_distances(X, centers):\n",
    "    return np.array([list(map(lambda x: np.sqrt(np.dot(x,x)), data - c)) for c in centers]).T\n",
    "\n",
    "def k_means(X, k=2, max_iterations=1000):\n",
    "    biggest, smallest = np.max(X, axis=0), np.min(X, axis=0)\n",
    "    \n",
    "    #Initialize centers in range\n",
    "    centers = [[np.random.uniform(smallest[i], biggest[i]) for i in range(X.shape[1])] for j in range(k)]\n",
    "    \n",
    "    distances = calculate_distances(X, centers)\n",
    "    labels = np.argmin(distances, axis=1)\n",
    "    i=0\n",
    "    while (i<max_iterations):\n",
    "        centers = [np.mean(X[labels == i], axis=0) for i in range(k)]\n",
    "        distances = calculate_distances(X, centers)\n",
    "        new_labels = np.argmin(distances, axis=1)\n",
    "        if (labels == new_labels).mean() > 0.99:\n",
    "            print(\"Converged after {} iterations\".format(i))\n",
    "            break\n",
    "        i += 1\n",
    "        labels = new_labels\n",
    "    \n",
    "    return centers, labels"
   ]
  },
  {
   "cell_type": "code",
   "execution_count": 90,
   "metadata": {},
   "outputs": [
    {
     "name": "stdout",
     "output_type": "stream",
     "text": [
      "Converged after 3 iterations\n"
     ]
    }
   ],
   "source": [
    "K = 3\n",
    "\n",
    "data = np.random.rand(200,2)\n",
    "\n",
    "centers, labels = k_means(data, K)"
   ]
  },
  {
   "cell_type": "code",
   "execution_count": 91,
   "metadata": {},
   "outputs": [
    {
     "data": {
      "image/png": "[encoded data removed]",
      "text/plain": [
       "<Figure size 432x288 with 1 Axes>"
      ]
     },
     "metadata": {},
     "output_type": "display_data"
    }
   ],
   "source": [
    "for i in range(K):\n",
    "    plt.scatter(data[labels==i][:,0], data[labels==i][:,1])\n",
    "\n"
   ]
  },
  {
   "cell_type": "markdown",
   "metadata": {},
   "source": [
    "### Time Test"
   ]
  },
  {
   "cell_type": "code",
   "execution_count": 87,
   "metadata": {
    "scrolled": true
   },
   "outputs": [
    {
     "name": "stdout",
     "output_type": "stream",
     "text": [
      "Converged after 7 iterations\n",
      "Converged after 7 iterations\n",
      "Converged after 9 iterations\n",
      "Converged after 5 iterations\n",
      "Converged after 6 iterations\n",
      "Converged after 4 iterations\n",
      "Converged after 5 iterations\n",
      "Converged after 8 iterations\n",
      "Converged after 7 iterations\n",
      "Converged after 5 iterations\n",
      "Converged after 7 iterations\n",
      "Converged after 5 iterations\n",
      "Converged after 5 iterations\n",
      "Converged after 3 iterations\n",
      "Converged after 4 iterations\n",
      "Converged after 6 iterations\n",
      "Converged after 4 iterations\n",
      "Converged after 4 iterations\n",
      "Converged after 2 iterations\n",
      "Converged after 2 iterations\n",
      "Converged after 4 iterations\n",
      "Converged after 9 iterations\n",
      "Converged after 5 iterations\n",
      "Converged after 1 iterations\n",
      "Converged after 4 iterations\n",
      "Converged after 9 iterations\n",
      "Converged after 4 iterations\n",
      "Converged after 9 iterations\n",
      "Converged after 11 iterations\n",
      "Converged after 3 iterations\n",
      "Converged after 4 iterations\n",
      "Converged after 3 iterations\n",
      "Converged after 3 iterations\n",
      "Converged after 5 iterations\n",
      "Converged after 5 iterations\n",
      "Converged after 9 iterations\n",
      "Converged after 4 iterations\n",
      "Converged after 3 iterations\n",
      "Converged after 3 iterations\n",
      "Converged after 7 iterations\n",
      "Converged after 4 iterations\n",
      "Converged after 3 iterations\n",
      "Converged after 4 iterations\n",
      "Converged after 4 iterations\n",
      "Converged after 3 iterations\n",
      "Converged after 3 iterations\n",
      "Converged after 4 iterations\n",
      "Converged after 4 iterations\n",
      "Converged after 6 iterations\n",
      "Converged after 4 iterations\n",
      "Converged after 5 iterations\n",
      "Converged after 5 iterations\n",
      "Converged after 4 iterations\n",
      "Converged after 4 iterations\n",
      "Converged after 4 iterations\n",
      "Converged after 9 iterations\n",
      "Converged after 1 iterations\n",
      "Converged after 4 iterations\n",
      "Converged after 5 iterations\n",
      "Converged after 4 iterations\n",
      "Converged after 7 iterations\n",
      "Converged after 7 iterations\n",
      "Converged after 5 iterations\n",
      "Converged after 5 iterations\n",
      "Converged after 3 iterations\n",
      "Converged after 4 iterations\n",
      "Converged after 3 iterations\n",
      "Converged after 3 iterations\n",
      "Converged after 4 iterations\n",
      "Converged after 3 iterations\n",
      "Converged after 4 iterations\n",
      "Converged after 2 iterations\n",
      "Converged after 3 iterations\n",
      "Converged after 2 iterations\n",
      "Converged after 3 iterations\n",
      "Converged after 3 iterations\n",
      "Converged after 5 iterations\n",
      "Converged after 1 iterations\n",
      "Converged after 5 iterations\n",
      "Converged after 4 iterations\n",
      "Converged after 7 iterations\n",
      "Converged after 2 iterations\n",
      "Converged after 5 iterations\n",
      "Converged after 6 iterations\n",
      "Converged after 4 iterations\n",
      "Converged after 3 iterations\n",
      "Converged after 5 iterations\n",
      "Converged after 6 iterations\n",
      "Converged after 4 iterations\n",
      "Converged after 4 iterations\n",
      "Converged after 5 iterations\n",
      "Converged after 5 iterations\n",
      "Converged after 3 iterations\n",
      "Converged after 3 iterations\n",
      "Converged after 4 iterations\n",
      "Converged after 5 iterations\n",
      "Converged after 4 iterations\n",
      "Converged after 4 iterations\n",
      "Converged after 3 iterations\n"
     ]
    }
   ],
   "source": [
    "times = []\n",
    "for N in range(100,10000,100):\n",
    "    K = 3\n",
    "\n",
    "    data = np.random.rand(N,2)\n",
    "    \n",
    "    start = timer()\n",
    "    centers, labels = k_means(data, K)\n",
    "    end = timer()\n",
    "    times.append(end-start)"
   ]
  },
  {
   "cell_type": "code",
   "execution_count": 88,
   "metadata": {},
   "outputs": [
    {
     "data": {
      "text/plain": [
       "[<matplotlib.lines.Line2D at 0x1191ce748>]"
      ]
     },
     "execution_count": 88,
     "metadata": {},
     "output_type": "execute_result"
    },
    {
     "data": {
      "image/png": "[encoded data removed]",
      "text/plain": [
       "<Figure size 432x288 with 1 Axes>"
      ]
     },
     "metadata": {},
     "output_type": "display_data"
    }
   ],
   "source": [
    "plt.plot(times)"
   ]
  },
  {
   "cell_type": "code",
   "execution_count": null,
   "metadata": {
    "collapsed": true
   },
   "outputs": [],
   "source": []
  }
 ],
 "metadata": {
  "kernelspec": {
   "display_name": "Python 3",
   "language": "python",
   "name": "python3"
  },
  "language_info": {
   "codemirror_mode": {
    "name": "ipython",
    "version": 3
   },
   "file_extension": ".py",
   "mimetype": "text/x-python",
   "name": "python",
   "nbconvert_exporter": "python",
   "pygments_lexer": "ipython3",
   "version": "3.6.1"
  }
 },
 "nbformat": 4,
 "nbformat_minor": 2
}
