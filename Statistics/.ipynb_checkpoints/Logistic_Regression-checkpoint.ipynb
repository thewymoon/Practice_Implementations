{
 "cells": [
  {
   "cell_type": "markdown",
   "metadata": {},
   "source": [
    "# Logistic Regression"
   ]
  },
  {
   "cell_type": "markdown",
   "metadata": {},
   "source": [
    "Logistic Regression is used for binary classification where we assume the probability of a sample belonging to class 1 is of the form:\n",
    "\n",
    "$$ Pr(Y=1|X) = \\frac{1}{1+e^{-\\beta \\cdot X}}$$\n",
    "\n",
    "We generally estimate $\\beta$ by:\n",
    "\n",
    "$$ \\beta = argmin(\\frac{-1}{N} \\sum_i{y_i \\log{\\hat{y}_i} + (1-y_i) \\log{(1-\\hat{y}_i)}}) $$\n",
    "\n"
   ]
  },
  {
   "cell_type": "code",
   "execution_count": 2,
   "metadata": {
    "collapsed": true
   },
   "outputs": [],
   "source": [
    "%matplotlib inline\n",
    "\n",
    "import numpy as np\n",
    "from scipy.special import expit"
   ]
  },
  {
   "cell_type": "code",
   "execution_count": null,
   "metadata": {
    "collapsed": true
   },
   "outputs": [],
   "source": [
    "class Logistic_Regression():\n",
    "    def __init__(self, )"
   ]
  },
  {
   "cell_type": "code",
   "execution_count": 24,
   "metadata": {
    "collapsed": true
   },
   "outputs": [],
   "source": [
    "X = np.concatenate([np.random.multivariate_normal(mean=(1,3), cov=np.identity(2), size=100),\n",
    "                       np.random.multivariate_normal(mean=(4,5), cov=np.identity(2), size=100)])"
   ]
  }
 ],
 "metadata": {
  "kernelspec": {
   "display_name": "Python 3",
   "language": "python",
   "name": "python3"
  },
  "language_info": {
   "codemirror_mode": {
    "name": "ipython",
    "version": 3
   },
   "file_extension": ".py",
   "mimetype": "text/x-python",
   "name": "python",
   "nbconvert_exporter": "python",
   "pygments_lexer": "ipython3",
   "version": "3.6.1"
  }
 },
 "nbformat": 4,
 "nbformat_minor": 2
}
